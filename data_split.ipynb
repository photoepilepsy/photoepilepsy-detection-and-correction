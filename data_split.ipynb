{
 "cells": [
  {
   "cell_type": "code",
   "execution_count": 1,
   "id": "e43aadfb-8e64-4c7e-839d-0058357e094b",
   "metadata": {},
   "outputs": [
    {
     "data": {
      "text/html": [
       "<p style='color:black;'>Analyzing video...</p>"
      ],
      "text/plain": [
       "<IPython.core.display.HTML object>"
      ]
     },
     "metadata": {},
     "output_type": "display_data"
    },
    {
     "data": {
      "text/html": [
       "<p style='color:black;'>Video info: 54898 frames, 1829.93 seconds, 30.00 fps</p>"
      ],
      "text/plain": [
       "<IPython.core.display.HTML object>"
      ]
     },
     "metadata": {},
     "output_type": "display_data"
    },
    {
     "data": {
      "text/html": [
       "<p style='color:black;'>Initial split:</p>"
      ],
      "text/plain": [
       "<IPython.core.display.HTML object>"
      ]
     },
     "metadata": {},
     "output_type": "display_data"
    },
    {
     "data": {
      "text/html": [
       "<p style='color:black;'>  Training:    0 to 38428 (70.0%)</p>"
      ],
      "text/plain": [
       "<IPython.core.display.HTML object>"
      ]
     },
     "metadata": {},
     "output_type": "display_data"
    },
    {
     "data": {
      "text/html": [
       "<p style='color:black;'>  Validation:  38429 to 46662 (15.0%)</p>"
      ],
      "text/plain": [
       "<IPython.core.display.HTML object>"
      ]
     },
     "metadata": {},
     "output_type": "display_data"
    },
    {
     "data": {
      "text/html": [
       "<p style='color:black;'>  Testing:     46663 to 54898 (15.0%)</p>"
      ],
      "text/plain": [
       "<IPython.core.display.HTML object>"
      ]
     },
     "metadata": {},
     "output_type": "display_data"
    },
    {
     "data": {
      "text/html": [
       "<p style='color:black;'>Reading JSON data...</p>"
      ],
      "text/plain": [
       "<IPython.core.display.HTML object>"
      ]
     },
     "metadata": {},
     "output_type": "display_data"
    },
    {
     "data": {
      "text/html": [
       "<p style='color:black;'>Splitting JSON data...</p>"
      ],
      "text/plain": [
       "<IPython.core.display.HTML object>"
      ]
     },
     "metadata": {},
     "output_type": "display_data"
    },
    {
     "data": {
      "text/html": [
       "<p style='color:black;'>Actual split (adjusted to preserve segments):</p>"
      ],
      "text/plain": [
       "<IPython.core.display.HTML object>"
      ]
     },
     "metadata": {},
     "output_type": "display_data"
    },
    {
     "data": {
      "text/html": [
       "<p style='color:black;'>  Training:    38463 frames (70.1%)</p>"
      ],
      "text/plain": [
       "<IPython.core.display.HTML object>"
      ]
     },
     "metadata": {},
     "output_type": "display_data"
    },
    {
     "data": {
      "text/html": [
       "<p style='color:black;'>  Validation:  8211 frames (15.0%)</p>"
      ],
      "text/plain": [
       "<IPython.core.display.HTML object>"
      ]
     },
     "metadata": {},
     "output_type": "display_data"
    },
    {
     "data": {
      "text/html": [
       "<p style='color:black;'>  Testing:     8224 frames (15.0%)</p>"
      ],
      "text/plain": [
       "<IPython.core.display.HTML object>"
      ]
     },
     "metadata": {},
     "output_type": "display_data"
    },
    {
     "data": {
      "text/html": [
       "<p style='color:black;'>Created JSON files:</p>"
      ],
      "text/plain": [
       "<IPython.core.display.HTML object>"
      ]
     },
     "metadata": {},
     "output_type": "display_data"
    },
    {
     "data": {
      "text/html": [
       "<p style='color:black;'>  ./train_set.json</p>"
      ],
      "text/plain": [
       "<IPython.core.display.HTML object>"
      ]
     },
     "metadata": {},
     "output_type": "display_data"
    },
    {
     "data": {
      "text/html": [
       "<p style='color:black;'>  ./val_set.json</p>"
      ],
      "text/plain": [
       "<IPython.core.display.HTML object>"
      ]
     },
     "metadata": {},
     "output_type": "display_data"
    },
    {
     "data": {
      "text/html": [
       "<p style='color:black;'>  ./test_set.json</p>"
      ],
      "text/plain": [
       "<IPython.core.display.HTML object>"
      ]
     },
     "metadata": {},
     "output_type": "display_data"
    },
    {
     "data": {
      "text/html": [
       "<p style='color:black;'>Extracting video segments...</p>"
      ],
      "text/plain": [
       "<IPython.core.display.HTML object>"
      ]
     },
     "metadata": {},
     "output_type": "display_data"
    },
    {
     "data": {
      "text/html": [
       "<p style='color:blue;'>  Extracting training set: 0 to 1282.10s</p>"
      ],
      "text/plain": [
       "<IPython.core.display.HTML object>"
      ]
     },
     "metadata": {},
     "output_type": "display_data"
    },
    {
     "data": {
      "text/html": [
       "<p style='color:blue;'>  Extracting validation set: 1282.10s to 1555.80s</p>"
      ],
      "text/plain": [
       "<IPython.core.display.HTML object>"
      ]
     },
     "metadata": {},
     "output_type": "display_data"
    },
    {
     "data": {
      "text/html": [
       "<p style='color:blue;'>  Extracting test set: 1555.80s to end</p>"
      ],
      "text/plain": [
       "<IPython.core.display.HTML object>"
      ]
     },
     "metadata": {},
     "output_type": "display_data"
    },
    {
     "data": {
      "text/html": [
       "<p style='color:green;'>Created ./train_set.mp4 (566.31 MB)</p>"
      ],
      "text/plain": [
       "<IPython.core.display.HTML object>"
      ]
     },
     "metadata": {},
     "output_type": "display_data"
    },
    {
     "data": {
      "text/html": [
       "<p style='color:green;'>Created ./val_set.mp4 (166.10 MB)</p>"
      ],
      "text/plain": [
       "<IPython.core.display.HTML object>"
      ]
     },
     "metadata": {},
     "output_type": "display_data"
    },
    {
     "data": {
      "text/html": [
       "<p style='color:green;'>Created ./test_set.mp4 (109.18 MB)</p>"
      ],
      "text/plain": [
       "<IPython.core.display.HTML object>"
      ]
     },
     "metadata": {},
     "output_type": "display_data"
    },
    {
     "data": {
      "text/html": [
       "<p style='color:green;'>Created ./train_set.json (0.07 MB)</p>"
      ],
      "text/plain": [
       "<IPython.core.display.HTML object>"
      ]
     },
     "metadata": {},
     "output_type": "display_data"
    },
    {
     "data": {
      "text/html": [
       "<p style='color:green;'>Created ./val_set.json (0.01 MB)</p>"
      ],
      "text/plain": [
       "<IPython.core.display.HTML object>"
      ]
     },
     "metadata": {},
     "output_type": "display_data"
    },
    {
     "data": {
      "text/html": [
       "<p style='color:green;'>Created ./test_set.json (0.01 MB)</p>"
      ],
      "text/plain": [
       "<IPython.core.display.HTML object>"
      ]
     },
     "metadata": {},
     "output_type": "display_data"
    },
    {
     "data": {
      "text/html": [
       "<p style='color:green;'>Partitioning complete!</p>"
      ],
      "text/plain": [
       "<IPython.core.display.HTML object>"
      ]
     },
     "metadata": {},
     "output_type": "display_data"
    }
   ],
   "source": [
    "import os\n",
    "import json\n",
    "import math\n",
    "import subprocess\n",
    "from pathlib import Path\n",
    "from IPython.display import display, HTML\n",
    "\n",
    "\"\"\"\n",
    "Jupyter Notebook script for partitioning a concatenated video and its corresponding JSON log file\n",
    "into training, validation, and test sets with an 70:15:15 ratio.\n",
    "\n",
    "This script is designed to be run within a Jupyter Notebook cell.\n",
    "\"\"\"\n",
    "\n",
    "# Configure these parameters as needed\n",
    "INPUT_VIDEO = 'concatenated_output.mp4'  # Input video file\n",
    "INPUT_JSON = 'concatenated_log.json'     # Input JSON log file\n",
    "OUTPUT_DIR = '.'                         # Output directory\n",
    "RATIO = (0.70, 0.15, 0.15)                  # Split ratio (train, val, test)\n",
    "\n",
    "def display_progress(message, color='black'):\n",
    "    \"\"\"Display progress message in Jupyter notebook\"\"\"\n",
    "    display(HTML(f\"<p style='color:{color};'>{message}</p>\"))\n",
    "\n",
    "def get_video_duration(video_path):\n",
    "    \"\"\"Get the duration of a video file in seconds\"\"\"\n",
    "    cmd = [\n",
    "        'ffprobe',\n",
    "        '-v', 'error',\n",
    "        '-show_entries', 'format=duration',\n",
    "        '-of', 'json',\n",
    "        video_path\n",
    "    ]\n",
    "    \n",
    "    try:\n",
    "        result = subprocess.run(cmd, capture_output=True, text=True, check=True)\n",
    "        data = json.loads(result.stdout)\n",
    "        return float(data['format']['duration'])\n",
    "    except (subprocess.SubprocessError, json.JSONDecodeError, KeyError):\n",
    "        display_progress(f\"Warning: Could not determine duration of {video_path}\", 'orange')\n",
    "        return 0\n",
    "\n",
    "def get_frame_count(video_path):\n",
    "    \"\"\"Get the total number of frames in a video\"\"\"\n",
    "    cmd = [\n",
    "        'ffprobe',\n",
    "        '-v', 'error',\n",
    "        '-select_streams', 'v:0',\n",
    "        '-count_packets',\n",
    "        '-show_entries', 'stream=nb_read_packets',\n",
    "        '-of', 'json',\n",
    "        video_path\n",
    "    ]\n",
    "    \n",
    "    try:\n",
    "        result = subprocess.run(cmd, capture_output=True, text=True, check=True)\n",
    "        data = json.loads(result.stdout)\n",
    "        return int(data['streams'][0]['nb_read_packets'])\n",
    "    except (subprocess.SubprocessError, json.JSONDecodeError, KeyError, IndexError):\n",
    "        display_progress(f\"Warning: Could not determine frame count of {video_path}\", 'orange')\n",
    "        # Fallback to estimating frames from duration and assuming 30fps\n",
    "        duration = get_video_duration(video_path)\n",
    "        return int(duration * 30)\n",
    "\n",
    "def get_video_fps(video_path):\n",
    "    \"\"\"Get the frames per second of a video\"\"\"\n",
    "    cmd = [\n",
    "        'ffprobe',\n",
    "        '-v', 'error',\n",
    "        '-select_streams', 'v:0',\n",
    "        '-show_entries', 'stream=r_frame_rate',\n",
    "        '-of', 'json',\n",
    "        video_path\n",
    "    ]\n",
    "    \n",
    "    try:\n",
    "        result = subprocess.run(cmd, capture_output=True, text=True, check=True)\n",
    "        data = json.loads(result.stdout)\n",
    "        fps_str = data['streams'][0]['r_frame_rate']\n",
    "        \n",
    "        # Parse fraction like \"30000/1001\" to get actual fps\n",
    "        if '/' in fps_str:\n",
    "            num, denom = map(int, fps_str.split('/'))\n",
    "            return num / denom\n",
    "        else:\n",
    "            return float(fps_str)\n",
    "    except (subprocess.SubprocessError, json.JSONDecodeError, KeyError, IndexError, ValueError):\n",
    "        display_progress(f\"Warning: Could not determine FPS of {video_path}, assuming 30fps\", 'orange')\n",
    "        return 30.0\n",
    "\n",
    "def extract_video_segment(input_video, output_video, start_time, duration):\n",
    "    \"\"\"Extract a segment from a video file\"\"\"\n",
    "    cmd = [\n",
    "        'ffmpeg',\n",
    "        '-i', input_video,\n",
    "        '-ss', str(start_time),\n",
    "        '-t', str(duration),\n",
    "        '-c', 'copy',  # Copy without re-encoding\n",
    "        '-y',  # Overwrite output file\n",
    "        output_video\n",
    "    ]\n",
    "    \n",
    "    try:\n",
    "        subprocess.run(cmd, check=True, stdout=subprocess.PIPE, stderr=subprocess.PIPE)\n",
    "        return os.path.exists(output_video)\n",
    "    except subprocess.SubprocessError:\n",
    "        display_progress(f\"Warning: Failed to extract segment to {output_video}\", 'orange')\n",
    "        \n",
    "        # Try again with re-encoding (more reliable but slower)\n",
    "        display_progress(\"Trying with re-encoding...\", 'blue')\n",
    "        cmd = [\n",
    "            'ffmpeg',\n",
    "            '-i', input_video,\n",
    "            '-ss', str(start_time),\n",
    "            '-t', str(duration),\n",
    "            '-c:v', 'libx264',  # Re-encode video\n",
    "            '-c:a', 'aac',      # Re-encode audio\n",
    "            '-y',               # Overwrite output file\n",
    "            output_video\n",
    "        ]\n",
    "        \n",
    "        try:\n",
    "            subprocess.run(cmd, check=True, stdout=subprocess.PIPE, stderr=subprocess.PIPE)\n",
    "            return os.path.exists(output_video)\n",
    "        except subprocess.SubprocessError:\n",
    "            display_progress(f\"Error: Failed to extract segment to {output_video} even with re-encoding\", 'red')\n",
    "            return False\n",
    "\n",
    "def split_json_by_frames(json_data, train_end_frame, val_end_frame, total_frames):\n",
    "    \"\"\"Split JSON log data into training, validation, and test sets based on frame numbers\"\"\"\n",
    "    train_segments = []\n",
    "    val_segments = []\n",
    "    test_segments = []\n",
    "    \n",
    "    # Get the segments from the first (and only) entry\n",
    "    all_segments = json_data[0]['segments']\n",
    "    \n",
    "    # Adjust frame boundaries to ensure segments aren't split\n",
    "    adjusted_train_end = train_end_frame\n",
    "    adjusted_val_end = val_end_frame\n",
    "    \n",
    "    for segment in all_segments:\n",
    "        start_frame = segment['start_frame']\n",
    "        end_frame = segment['end_frame']\n",
    "        \n",
    "        # Determine which set this segment belongs to\n",
    "        if end_frame <= adjusted_train_end:\n",
    "            # Segment completely in training set\n",
    "            train_segments.append(segment)\n",
    "        elif start_frame < adjusted_train_end:\n",
    "            # Segment spans training and validation\n",
    "            # Move the boundary to include the full segment in training\n",
    "            adjusted_train_end = end_frame\n",
    "            train_segments.append(segment)\n",
    "        elif end_frame <= adjusted_val_end:\n",
    "            # Segment completely in validation set\n",
    "            # Adjust frames to be relative to the start of validation set\n",
    "            adjusted_segment = segment.copy()\n",
    "            adjusted_segment['start_frame'] -= adjusted_train_end\n",
    "            adjusted_segment['end_frame'] -= adjusted_train_end\n",
    "            val_segments.append(adjusted_segment)\n",
    "        elif start_frame < adjusted_val_end:\n",
    "            # Segment spans validation and test\n",
    "            # Move the boundary to include the full segment in validation\n",
    "            adjusted_val_end = end_frame\n",
    "            adjusted_segment = segment.copy()\n",
    "            adjusted_segment['start_frame'] -= adjusted_train_end\n",
    "            adjusted_segment['end_frame'] -= adjusted_train_end\n",
    "            val_segments.append(adjusted_segment)\n",
    "        else:\n",
    "            # Segment in test set\n",
    "            # Adjust frames to be relative to the start of test set\n",
    "            adjusted_segment = segment.copy()\n",
    "            adjusted_segment['start_frame'] -= adjusted_val_end\n",
    "            adjusted_segment['end_frame'] -= adjusted_val_end\n",
    "            test_segments.append(adjusted_segment)\n",
    "    \n",
    "    # Create new JSON entries for each set\n",
    "    filename = json_data[0]['filename']\n",
    "    base_name = os.path.splitext(filename)[0]\n",
    "    \n",
    "    train_json = [{\n",
    "        \"filename\": f\"{base_name}_train.mp4\",\n",
    "        \"segments\": train_segments\n",
    "    }]\n",
    "    \n",
    "    val_json = [{\n",
    "        \"filename\": f\"{base_name}_val.mp4\",\n",
    "        \"segments\": val_segments\n",
    "    }]\n",
    "    \n",
    "    test_json = [{\n",
    "        \"filename\": f\"{base_name}_test.mp4\",\n",
    "        \"segments\": test_segments\n",
    "    }]\n",
    "    \n",
    "    # Calculate actual frame counts for each set\n",
    "    train_frames = adjusted_train_end\n",
    "    val_frames = adjusted_val_end - adjusted_train_end\n",
    "    test_frames = total_frames - adjusted_val_end\n",
    "    \n",
    "    # Calculate actual percentages\n",
    "    train_pct = train_frames / total_frames * 100\n",
    "    val_pct = val_frames / total_frames * 100\n",
    "    test_pct = test_frames / total_frames * 100\n",
    "    \n",
    "    display_progress(\"Actual split (adjusted to preserve segments):\")\n",
    "    display_progress(f\"  Training:    {train_frames} frames ({train_pct:.1f}%)\")\n",
    "    display_progress(f\"  Validation:  {val_frames} frames ({val_pct:.1f}%)\")\n",
    "    display_progress(f\"  Testing:     {test_frames} frames ({test_pct:.1f}%)\")\n",
    "    \n",
    "    return (train_json, val_json, test_json), (adjusted_train_end, adjusted_val_end, total_frames)\n",
    "\n",
    "def partition_data(input_video, input_json, output_dir='.', ratio=(0.8, 0.1, 0.1)):\n",
    "    \"\"\"Partition video and JSON data into training, validation, and test sets\"\"\"\n",
    "    # Create output directory if it doesn't exist\n",
    "    os.makedirs(output_dir, exist_ok=True)\n",
    "    \n",
    "    # Get video information\n",
    "    display_progress(\"Analyzing video...\")\n",
    "    total_frames = get_frame_count(input_video)\n",
    "    duration = get_video_duration(input_video)\n",
    "    fps = get_video_fps(input_video)\n",
    "    \n",
    "    display_progress(f\"Video info: {total_frames} frames, {duration:.2f} seconds, {fps:.2f} fps\")\n",
    "    \n",
    "    # Calculate frame boundaries based on ratio\n",
    "    train_ratio, val_ratio, test_ratio = ratio\n",
    "    train_end_frame = math.floor(total_frames * train_ratio)\n",
    "    val_end_frame = train_end_frame + math.floor(total_frames * val_ratio)\n",
    "    \n",
    "    display_progress(\"Initial split:\")\n",
    "    display_progress(f\"  Training:    0 to {train_end_frame} ({train_ratio*100:.1f}%)\")\n",
    "    display_progress(f\"  Validation:  {train_end_frame+1} to {val_end_frame} ({val_ratio*100:.1f}%)\")\n",
    "    display_progress(f\"  Testing:     {val_end_frame+1} to {total_frames} ({test_ratio*100:.1f}%)\")\n",
    "    \n",
    "    # Read JSON data\n",
    "    display_progress(\"Reading JSON data...\")\n",
    "    with open(input_json, 'r') as f:\n",
    "        json_data = json.load(f)\n",
    "    \n",
    "    # Split JSON data\n",
    "    display_progress(\"Splitting JSON data...\")\n",
    "    (train_json, val_json, test_json), (adj_train_end, adj_val_end, _) = split_json_by_frames(\n",
    "        json_data, train_end_frame, val_end_frame, total_frames\n",
    "    )\n",
    "    \n",
    "    # Write JSON files\n",
    "    json_train_path = os.path.join(output_dir, 'train_set.json')\n",
    "    json_val_path = os.path.join(output_dir, 'val_set.json')\n",
    "    json_test_path = os.path.join(output_dir, 'test_set.json')\n",
    "    \n",
    "    with open(json_train_path, 'w') as f:\n",
    "        json.dump(train_json, f, indent=2)\n",
    "    \n",
    "    with open(json_val_path, 'w') as f:\n",
    "        json.dump(val_json, f, indent=2)\n",
    "    \n",
    "    with open(json_test_path, 'w') as f:\n",
    "        json.dump(test_json, f, indent=2)\n",
    "    \n",
    "    display_progress(\"Created JSON files:\")\n",
    "    display_progress(f\"  {json_train_path}\")\n",
    "    display_progress(f\"  {json_val_path}\")\n",
    "    display_progress(f\"  {json_test_path}\")\n",
    "    \n",
    "    # Calculate time boundaries for video splitting\n",
    "    train_end_time = adj_train_end / fps\n",
    "    val_end_time = adj_val_end / fps\n",
    "    \n",
    "    # Extract video segments\n",
    "    video_train_path = os.path.join(output_dir, 'train_set.mp4')\n",
    "    video_val_path = os.path.join(output_dir, 'val_set.mp4')\n",
    "    video_test_path = os.path.join(output_dir, 'test_set.mp4')\n",
    "    \n",
    "    display_progress(\"Extracting video segments...\")\n",
    "    \n",
    "    # Training set (from start to train_end_time)\n",
    "    display_progress(f\"  Extracting training set: 0 to {train_end_time:.2f}s\", 'blue')\n",
    "    extract_video_segment(input_video, video_train_path, 0, train_end_time)\n",
    "    \n",
    "    # Validation set (from train_end_time to val_end_time)\n",
    "    display_progress(f\"  Extracting validation set: {train_end_time:.2f}s to {val_end_time:.2f}s\", 'blue')\n",
    "    extract_video_segment(input_video, video_val_path, train_end_time, val_end_time - train_end_time)\n",
    "    \n",
    "    # Test set (from val_end_time to end)\n",
    "    display_progress(f\"  Extracting test set: {val_end_time:.2f}s to end\", 'blue')\n",
    "    extract_video_segment(input_video, video_test_path, val_end_time, duration - val_end_time)\n",
    "    \n",
    "    # Verify the output files\n",
    "    outputs = [\n",
    "        video_train_path, video_val_path, video_test_path,\n",
    "        json_train_path, json_val_path, json_test_path\n",
    "    ]\n",
    "    \n",
    "    for output in outputs:\n",
    "        if os.path.exists(output):\n",
    "            size = os.path.getsize(output) / (1024 * 1024)  # Size in MB\n",
    "            display_progress(f\"Created {output} ({size:.2f} MB)\", 'green')\n",
    "        else:\n",
    "            display_progress(f\"Failed to create {output}\", 'red')\n",
    "    \n",
    "    display_progress(\"Partitioning complete!\", 'green')\n",
    "    return {\n",
    "        'train_video': video_train_path,\n",
    "        'val_video': video_val_path,\n",
    "        'test_video': video_test_path,\n",
    "        'train_json': json_train_path,\n",
    "        'val_json': json_val_path,\n",
    "        'test_json': json_test_path\n",
    "    }\n",
    "\n",
    "# Check if inputs exist\n",
    "if not os.path.exists(INPUT_VIDEO):\n",
    "    display_progress(f\"Error: Input video file '{INPUT_VIDEO}' not found\", 'red')\n",
    "elif not os.path.exists(INPUT_JSON):\n",
    "    display_progress(f\"Error: Input JSON file '{INPUT_JSON}' not found\", 'red')\n",
    "else:\n",
    "    # Run the partitioning\n",
    "    results = partition_data(INPUT_VIDEO, INPUT_JSON, OUTPUT_DIR, RATIO)"
   ]
  },
  {
   "cell_type": "code",
   "execution_count": null,
   "id": "940ddd56-c3eb-4ea7-af58-1c8230d5de19",
   "metadata": {},
   "outputs": [],
   "source": []
  }
 ],
 "metadata": {
  "kernelspec": {
   "display_name": "Python 3 (ipykernel)",
   "language": "python",
   "name": "python3"
  },
  "language_info": {
   "codemirror_mode": {
    "name": "ipython",
    "version": 3
   },
   "file_extension": ".py",
   "mimetype": "text/x-python",
   "name": "python",
   "nbconvert_exporter": "python",
   "pygments_lexer": "ipython3",
   "version": "3.12.3"
  }
 },
 "nbformat": 4,
 "nbformat_minor": 5
}
